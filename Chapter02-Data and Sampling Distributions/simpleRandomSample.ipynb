{
 "cells": [
  {
   "cell_type": "markdown",
   "metadata": {},
   "source": [
    "1. Definition\n",
    "- A Simple Random Sample (SRS) is a subset of a population in which every individual has an equal chance of being chosen. It is a foundational technique in statistics for ensuring unbiased representation of the population."
   ]
  },
  {
   "cell_type": "markdown",
   "metadata": {},
   "source": [
    "2. Theory with Important Formulas\n",
    "- Key Properties:\n",
    "  - Every individual in the population has an equal probability of selection. \n",
    "  - Ensures that the sample is unbiased if implemented correctly.\n",
    "- Sampling Process:\n",
    "  - If a population consists of N individuals, and the sample size is n, the probability of any specific subset being chosen is:\n",
    "    - P(Subset) = 1 / (N choose n)\n",
    "\n",
    "    - Where:\n",
    "     - N = Total population size\n",
    "     - n = Sample size\n",
    "     - (N choose n) = Number of ways to choose n items from N\n",
    "\n",
    "- Other Formulas:\n",
    "  - Sample Mean (x̄):\n",
    "    - x̄ = (Σx) / n\n",
    "\n",
    "    - Where:\n",
    "      - Σx = Sum of all sampled values\n",
    "      - n = Sample size\n",
    "\n",
    "  - Sample Variance (s²):\n",
    "    - s² = Σ(xi - x̄)² / (n - 1)\n",
    "\n",
    "    - Where:\n",
    "      - xi = Individual sample value\n",
    "      - x̄ = Sample mean\n",
    "      - n = Sample size\n",
    "\n",
    "  - Sample Standard Deviation (s):\n",
    "    -  s = √s²\n",
    "\n",
    "    - Where:\n",
    "      - s² = Sample variance\n",
    "\n",
    "  - Population Proportion Estimate (p̂):\n",
    "    - p̂ = x / n\n",
    "\n",
    "    - Where:\n",
    "      - x = Number of items with a specific characteristic in the sample\n",
    "      - n = Sample size\n",
    "\n",
    "  - Margin of Error (E) for a Confidence Interval:\n",
    "    - E = Z * (s / √n)\n",
    "\n",
    "    - Where:\n",
    "      - Z = Z-value (from the standard normal distribution for a given confidence level)\n",
    "      - s = Sample standard deviation\n",
    "      - n = Sample size\n",
    "\n",
    "  - Confidence Interval for the Population Mean (μ):\n",
    "    - CI = x̄ ± E "
   ]
  },
  {
   "cell_type": "markdown",
   "metadata": {},
   "source": [
    "3. Examples\n",
    " - Population: A school has 500 students.\n",
    " - Sample: Select 50 students randomly for a survey about school facilities.\n",
    " - Method: Assign each student a number and use a random number generator to select 50 students."
   ]
  },
  {
   "cell_type": "markdown",
   "metadata": {},
   "source": [
    "4. Practical Usages\n",
    "- Market Research: Collecting unbiased opinions from customers.\n",
    "- Healthcare: Testing a new drug on a random subset of patients.\n",
    "- Quality Control: Inspecting a random sample of products from a manufacturing line.\n",
    "- Polling: Understanding political preferences by sampling voters randomly."
   ]
  },
  {
   "cell_type": "code",
   "execution_count": 2,
   "metadata": {},
   "outputs": [
    {
     "name": "stdout",
     "output_type": "stream",
     "text": [
      "Sample Summary:\n",
      "              ID        Age      Height\n",
      "count   50.00000  50.000000   50.000000\n",
      "mean   254.86000  40.340000  165.881764\n",
      "std    171.07726  11.527447    9.200825\n",
      "min      1.00000  18.000000  147.822325\n",
      "25%     79.75000  33.500000  158.502452\n",
      "50%    299.00000  39.500000  167.255432\n",
      "75%    404.00000  51.000000  173.040901\n",
      "max    498.00000  58.000000  181.814845\n"
     ]
    },
    {
     "data": {
      "image/png": "[encoded data removed]",
      "text/plain": [
       "<Figure size 1200x600 with 1 Axes>"
      ]
     },
     "metadata": {},
     "output_type": "display_data"
    }
   ],
   "source": [
    "import numpy as np\n",
    "import pandas as pd\n",
    "import matplotlib.pyplot as plt\n",
    "\n",
    "# Example: Selecting a simple random sample from a population\n",
    "# Step 1: Create a population of 500 individuals\n",
    "population = pd.DataFrame({\n",
    "    'ID': range(1, 501),\n",
    "    'Age': np.random.randint(18, 60, 500),\n",
    "    'Height': np.random.normal(165, 10, 500)  # Mean = 165 cm, Std Dev = 10 cm\n",
    "})\n",
    "\n",
    "# Step 2: Take a simple random sample of size 50\n",
    "sample_size = 50\n",
    "random_sample = population.sample(n=sample_size, random_state=42)\n",
    "\n",
    "# Print sample summary\n",
    "print(\"Sample Summary:\")\n",
    "print(random_sample.describe())\n",
    "\n",
    "# Step 3: Visualize population vs sample distribution\n",
    "plt.figure(figsize=(12, 6))\n",
    "plt.hist(population['Height'], bins=20, alpha=0.5, label='Population', color='blue')\n",
    "plt.hist(random_sample['Height'], bins=20, alpha=0.7, label='Sample', color='orange')\n",
    "plt.title('Population vs Sample Height Distribution')\n",
    "plt.xlabel('Height (cm)')\n",
    "plt.ylabel('Frequency')\n",
    "plt.legend()\n",
    "plt.show()\n"
   ]
  },
  {
   "cell_type": "markdown",
   "metadata": {},
   "source": [
    "6. Diagram/Graph/Plot Used\n",
    "- Histogram: Shows the comparison between the population and the sample distribution.\n",
    "- Box Plot: Highlights the spread and central tendency of the sampled data compared to the population."
   ]
  },
  {
   "cell_type": "markdown",
   "metadata": {},
   "source": [
    "7. Additional Important Information\n",
    "- Advantages:\n",
    "  - Easy to implement and understand.\n",
    "  - Provides an unbiased representation of the population if sample size is adequate.\n",
    "\n",
    "- Limitations:\n",
    "  - Requires a complete list of the population.\n",
    "  - May not account for variability within subgroups (solution: stratified sampling)."
   ]
  },
  {
   "cell_type": "markdown",
   "metadata": {},
   "source": [
    "8. Scenario\n",
    "- A university wants to understand the average height of students across all departments."
   ]
  },
  {
   "cell_type": "markdown",
   "metadata": {},
   "source": [
    "9. Problem Statement\n",
    "- It is impractical to measure the height of all 20,000 students due to time and resource constraints. The university needs a  reliable method to estimate the average height."
   ]
  },
  {
   "cell_type": "markdown",
   "metadata": {},
   "source": [
    "10. Solution\n",
    "- By using a Simple Random Sample, the university can select 500 students randomly and calculate the average height from the sample. This approach ensures that every student has an equal chance of being chosen, providing an unbiased estimate of the population average.\n",
    "\n",
    "- Why this topic?\n",
    "  - SRS is easy to implement, unbiased, and ensures that the sample represents the population fairly."
   ]
  },
  {
   "cell_type": "markdown",
   "metadata": {},
   "source": [
    "11. Alternate Solutions\n",
    "- Stratified Sampling: If departments have uneven student numbers, divide the population by department and sample proportionally.\n",
    "- Systematic Sampling: Select every k-th student from a sorted list.\n",
    "- Cluster Sampling: Divide students into clusters (e.g., dormitories) and randomly select clusters to measure."
   ]
  }
 ],
 "metadata": {
  "kernelspec": {
   "display_name": "base",
   "language": "python",
   "name": "python3"
  },
  "language_info": {
   "codemirror_mode": {
    "name": "ipython",
    "version": 3
   },
   "file_extension": ".py",
   "mimetype": "text/x-python",
   "name": "python",
   "nbconvert_exporter": "python",
   "pygments_lexer": "ipython3",
   "version": "3.12.4"
  }
 },
 "nbformat": 4,
 "nbformat_minor": 2
}
