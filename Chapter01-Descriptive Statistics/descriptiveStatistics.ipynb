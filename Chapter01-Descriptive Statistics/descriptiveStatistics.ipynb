{
 "cells": [
  {
   "cell_type": "markdown",
   "metadata": {},
   "source": [
    "A.Central Value Location \n",
    "It refers to the methods used to find a central or typical value that represents the center of a data set, giving an overview of where most values are concentrated. It’s an essential concept in descriptive statistics, helping us summarize a large data set with a single value that best represents the entire set.\n",
    "\n",
    "There are several measures for locating central values, each suited to different types of data or distributions:\n",
    "\n",
    "Mean - The arithmetic average, calculated by summing all values and dividing by the number of values. It is sensitive to extreme values or outliers.\n",
    "\n",
    "Median - The middle value when data is ordered from smallest to largest. The median is robust to outliers, making it useful for skewed distributions.\n",
    "\n",
    "Mode - The most frequently occurring value in a data set. The mode is useful for categorical data or finding the most common value in a set.\n",
    "\n",
    "Trimmed Mean - A variation of the mean that excludes a certain percentage of the highest and lowest values to reduce the impact of outliers.\n",
    "\n",
    "Weighted Average - An average where each data point contributes differently based on a weight assigned to it, useful when some values are more important than others.\n",
    "\n",
    "Each of these methods provides different insights into the data's central tendency, and choosing the right measure depends on the data's nature and the analysis goals."
   ]
  }
 ],
 "metadata": {
  "language_info": {
   "name": "python"
  }
 },
 "nbformat": 4,
 "nbformat_minor": 2
}
