{
 "cells": [
  {
   "cell_type": "markdown",
   "metadata": {},
   "source": [
    "Variability\n",
    "Variability refers to how spread out or dispersed the values in a dataset are from each other and from the central value (often the mean). It provides insights into the consistency and predictability of data points within a set. High variability indicates that data points are more spread out, whereas low variability suggests that data points are closer to the mean or central value.\n",
    "\n",
    "Variability helps in understanding the distribution of data and identifying patterns, extremes, and overall data behavior. Common measures of variability include deviation, variance, standard deviation, range, percentiles, and interquartile range (IQR).\n",
    "\n",
    "These metrics are crucial in fields like statistics, finance, engineering, and research, as they allow analysts to quantify the degree of uncertainty, predict trends, and detect anomalies in data.\n"
   ]
  },
  {
   "cell_type": "markdown",
   "metadata": {},
   "source": [
    "1. Deviation\n",
    "   - Definition:\n",
    "     Deviation measures the difference between each data point and the mean of the dataset.\n",
    "   \n",
    "   - Formula:\n",
    "     Deviation = x_i - mean\n",
    "     Where:\n",
    "       - x_i = data points\n",
    "       - mean = the average of the dataset\n",
    "   \n",
    "   - Example:\n",
    "     - For the data set: [4, 7, 10, 5, 12] with mean = 7.6:\n",
    "     - Deviation for 4 = 4 - 7.6 = -3.6\n",
    "     - Deviation for 7 = 7 - 7.6 = -0.6\n",
    "     - Deviation for 10 = 10 - 7.6 = 2.4\n",
    "     - Deviation for 5 = 5 - 7.6 = -2.6\n",
    "     - Deviation for 12 = 12 - 7.6 = 4.4\n",
    "   \n",
    "   - Practical Usage:\n",
    "     - Measures how spread out the data points are from the mean.\n",
    "     - Helps in assessing the consistency of data in business operations.\n",
    "  \n",
    "  - Additional Information: \n",
    "     - Deviation is often used in early data exploration to identify how spread out values are from the average. \n",
    "     - Positive deviations indicate values above the mean, while negative deviations are below the mean.\n",
    "\n",
    "  - Scenario: \n",
    "     - A logistics company wants to monitor the average delivery time across its various locations.\n",
    "\n",
    "  - Problem Statement: \n",
    "     - The company has set a standard delivery time of 2 hours but notices that some deliveries deviate significantly from this target. They need to measure these deviations to improve their delivery accuracy.\n",
    "\n",
    "  - Solution:\n",
    "     - Using deviation, the company can calculate how each delivery time differs from the average delivery time. This allows them to identify locations where delivery times deviate too much from the norm and take corrective action. Deviation is chosen here because it captures each individual delivery's performance relative to the average, highlighting specific issues rather than an overall variability.\n",
    "\n",
    "  - Alternate Solutions:\n",
    "     - Standard Deviation: Provides a broader view of delivery time consistency across locations, but may not pinpoint specific deviations.\n",
    "     - Variance: Like standard deviation, this could be used but might make the deviation figures less interpretable for direct comparison.\n",
    "  "
   ]
  },
  {
   "cell_type": "code",
   "execution_count": 14,
   "metadata": {},
   "outputs": [
    {
     "data": {
      "image/png": "[encoded data removed]",
      "text/plain": [
       "<Figure size 640x480 with 1 Axes>"
      ]
     },
     "metadata": {},
     "output_type": "display_data"
    }
   ],
   "source": [
    "import matplotlib.pyplot as plt\n",
    "\n",
    "# Sample data\n",
    "data = [10, 12, 14, 16, 18, 20]\n",
    "mean = sum(data) / len(data)\n",
    "\n",
    "# Calculate deviations\n",
    "deviations = [x - mean for x in data]\n",
    "\n",
    "# Plotting without 'use_line_collection'\n",
    "plt.stem(data, deviations)\n",
    "plt.xlabel(\"Data Points\")\n",
    "plt.ylabel(\"Deviation from Mean\")\n",
    "plt.title(\"Deviation of Data Points from the Mean\")\n",
    "plt.show()\n"
   ]
  },
  {
   "cell_type": "markdown",
   "metadata": {},
   "source": [
    "2. Variance\n",
    "   - Definition:\n",
    "     Variance measures the average of the squared deviations from the mean. It provides an indication of how spread out the values are.\n",
    "   \n",
    "   - Formula:\n",
    "     Variance = (Σ(x_i - mean)²) / n\n",
    "     Where:\n",
    "       - x_i = data points\n",
    "       - mean = the average of the dataset\n",
    "       - n = number of data points\n",
    "   \n",
    "   - Example:\n",
    "       - For the data set: [4, 7, 10, 5, 12] with mean = 7.6:\n",
    "       - Variance = ((4-7.6)² + (7-7.6)² + (10-7.6)² + (5-7.6)² + (12-7.6)²) / 5 = 9.2\n",
    "   \n",
    "   - Practical Usage:\n",
    "     - Commonly used in finance to measure the risk of an asset or portfolio.\n",
    "     - Helps in understanding the variability in production or sales data.\n",
    "\n",
    "   - Additional Information: \n",
    "     - Variance is an essential statistic in finance, often used to measure risk. A high variance indicates that data points are spread out  widely, suggesting higher volatility.\n",
    "\n",
    "     Scenario: A hedge fund needs to assess the risk associated with different stocks in their portfolio.\n",
    "\n",
    "   - Problem Statement: \n",
    "     - The fund wants to understand how much each stock's price fluctuates over time to identify high-risk and low-risk investments.\n",
    "\n",
    "   - Solution:\n",
    "     - Variance is used here to quantify the average squared deviation of stock prices from the mean price. Stocks with higher variance are more  volatile, indicating higher risk, while stocks with lower variance are considered stable. Variance is ideal because it provides a clear mathematical way to quantify fluctuation and is standard in financial risk assessment.\n",
    "\n",
    "   - Alternate Solutions:\n",
    "     - Mean Absolute Deviation (MAD): MAD could be used to measure fluctuation in a simpler way but lacks the weight variance places on larger deviations, which is critical in finance.\n",
    "     - Standard Deviation: Provides similar information but is easier to interpret due to being on the same scale as the original data.\n"
   ]
  },
  {
   "cell_type": "code",
   "execution_count": 15,
   "metadata": {},
   "outputs": [
    {
     "name": "stdout",
     "output_type": "stream",
     "text": [
      "Variance: 9.040000000000001\n"
     ]
    }
   ],
   "source": [
    "import numpy as np\n",
    "\n",
    "# Sample data\n",
    "data = [4, 7, 10, 5, 12]\n",
    "mean = np.mean(data)\n",
    "variance = np.var(data)\n",
    "\n",
    "print(\"Variance:\", variance)\n"
   ]
  },
  {
   "cell_type": "markdown",
   "metadata": {},
   "source": [
    "3. Standard Deviation\n",
    "   - Definition:\n",
    "     Standard deviation is the square root of the variance and represents the spread of data points around the mean.\n",
    "   \n",
    "   - Formula:\n",
    "     - Standard Deviation = √Variance\n",
    "   \n",
    "   - Example:\n",
    "     - For the data set: [4, 7, 10, 5, 12], variance = 9.2:\n",
    "     - Standard Deviation = √9.2 = 3.03\n",
    "   \n",
    "   - Practical Usage:\n",
    "     - Provides a measure of consistency in data (e.g., measuring the consistency of product quality).\n",
    "     - Used in risk management in finance to assess volatility.\n",
    "\n",
    "   - Additional Information: \n",
    "     - Standard deviation is widely used in fields such as statistics, business, and finance for measuring data consistency and risk.\n",
    "   \n",
    "   - Scenario: \n",
    "     - An e-commerce company is analyzing the consistency of product ratings across different categories.\n",
    "\n",
    "   - Problem Statement: \n",
    "     - The company wants to determine which product categories have the most consistent ratings to better understand customer satisfaction across categories.\n",
    "\n",
    "   - Solution:\n",
    "     - Standard deviation is used to measure the spread of ratings for each category. Categories with a lower standard deviation in ratings  indicate that customers have similar experiences with products, suggesting consistency. Higher standard deviation in ratings indicates varying customer experiences. Standard deviation is selected here because it’s widely interpretable and provides insight into the consistency of feedback on the same scale as the data.\n",
    "\n",
    "   - Alternate Solutions:\n",
    "     - Interquartile Range (IQR): Useful for understanding the middle 50% of ratings, which can help with outlier-heavy data but might miss overall spread.\n",
    "     - Mean Absolute Deviation: Provides a straightforward way to view variability in ratings but lacks the ability to weigh outliers as heavily."
   ]
  },
  {
   "cell_type": "code",
   "execution_count": 16,
   "metadata": {},
   "outputs": [
    {
     "data": {
      "image/png": "[encoded data removed]",
      "text/plain": [
       "<Figure size 640x480 with 1 Axes>"
      ]
     },
     "metadata": {},
     "output_type": "display_data"
    }
   ],
   "source": [
    "import numpy as np\n",
    "import matplotlib.pyplot as plt\n",
    "\n",
    "# Sample data\n",
    "data = [4, 7, 10, 5, 12]\n",
    "mean = np.mean(data)\n",
    "std_dev = np.std(data)\n",
    "\n",
    "# Plotting Standard Deviation Range\n",
    "plt.plot(data, marker='o', linestyle='-')\n",
    "plt.axhline(mean, color='r', linestyle=\"--\", label=\"Mean\")\n",
    "plt.fill_between(range(len(data)), mean-std_dev, mean+std_dev, color=\"gray\", alpha=0.3, label=\"Standard Deviation Range\")\n",
    "plt.xlabel(\"Index\")\n",
    "plt.ylabel(\"Value\")\n",
    "plt.legend()\n",
    "plt.title(\"Standard Deviation Plot\")\n",
    "plt.show()\n"
   ]
  },
  {
   "cell_type": "markdown",
   "metadata": {},
   "source": [
    "4. Mean Absolute Deviation (MAD)\n",
    "   - Definition:\n",
    "     MAD is the average of the absolute deviations from the mean, providing a measure of the spread without squaring the deviations.\n",
    "   \n",
    "   - Formula:\n",
    "     MAD = (Σ|x_i - mean|) / n\n",
    "     Where:\n",
    "       - x_i = data points\n",
    "       - mean = the average of the dataset\n",
    "       - n = number of data points\n",
    "   \n",
    "   - Example:\n",
    "     For the data set: [4, 7, 10, 5, 12] with mean = 7.6:\n",
    "     MAD = (|4-7.6| + |7-7.6| + |10-7.6| + |5-7.6| + |12-7.6|) / 5 = 2.24\n",
    "   \n",
    "   - Practical Usage:\n",
    "     - Used in fields where outliers are problematic, as it does not square the deviations.\n",
    "     - Applied in manufacturing to monitor quality control.\n",
    "   \n",
    "   - Additional Information: \n",
    "     - MAD is preferred over variance or standard deviation in situations where a dataset contains outliers, as it doesn’t square deviations and, therefore, is less affected by extreme values.\n",
    "  \n",
    "   - Scenario:\n",
    "     - A customer service team wants to track response times and maintain consistency for inquiries.\n",
    "\n",
    "   - Problem Statement: \n",
    "     - The company has noticed variability in response times across different days and wants a simple way to measure these changes to maintain customer satisfaction.\n",
    "\n",
    "   - Solution:\n",
    "     - Mean Absolute Deviation (MAD) helps the team to calculate the average deviation of response times from the mean. MAD provides an easy-to-understand measure of consistency without overemphasizing extreme response times. It’s useful here because the company is more interested in an intuitive, straightforward measurement than in squaring deviations (as in variance).\n",
    "\n",
    "   - Alternate Solutions:\n",
    "     - Standard Deviation: Could provide a more statistically conventional measure but may overemphasize extreme deviations.\n",
    "     - Range: Shows the absolute span of response times but doesn’t account for consistency around the average.\n"
   ]
  },
  {
   "cell_type": "code",
   "execution_count": 17,
   "metadata": {},
   "outputs": [
    {
     "name": "stdout",
     "output_type": "stream",
     "text": [
      "Mean Absolute Deviation: 2.7199999999999998\n"
     ]
    }
   ],
   "source": [
    "import numpy as np\n",
    "\n",
    "# Sample data\n",
    "data = [4, 7, 10, 5, 12]\n",
    "mean = np.mean(data)\n",
    "mad = np.mean([abs(x - mean) for x in data])\n",
    "\n",
    "print(\"Mean Absolute Deviation:\", mad)\n"
   ]
  },
  {
   "cell_type": "markdown",
   "metadata": {},
   "source": [
    "5. Range\n",
    "   - Definition:\n",
    "     The range is the difference between the highest and lowest values in a dataset.\n",
    "   \n",
    "   - Formula:\n",
    "     Range = max(x_i) - min(x_i)\n",
    "     Where:\n",
    "       - x_i = data points\n",
    "   \n",
    "   - Example:\n",
    "     For the data set: [4, 7, 10, 5, 12]:\n",
    "     Range = 12 - 4 = 8\n",
    "   \n",
    "   - Practical Usage:\n",
    "     - Provides a quick measure of the data spread.\n",
    "     - Used in weather forecasts to show temperature variation.\n",
    "    \n",
    "   -  Additional Information: \n",
    "     - Range is often used as a quick way to measure data spread, though it is sensitive to outliers and doesn’t indicate internal data structure.\n",
    "  \n",
    "   - Scenario: \n",
    "     - A manufacturing plant is monitoring the temperature of machinery to ensure operational safety.\n",
    "\n",
    "   - Problem Statement: \n",
    "     - Machinery should operate within a specific temperature range. Sudden spikes or drops may indicate issues that require maintenance.\n",
    "\n",
    "   - Solution:\n",
    "     - Range is ideal for this scenario because it quickly shows the highest and lowest recorded temperatures, providing a simple check for extreme variations that may indicate potential machine issues. Range is useful here due to its simplicity and direct insight into maximum deviation from desired temperature limits.\n",
    "\n",
    "   - Alternate Solutions:\n",
    "     - Interquartile Range (IQR): Would help if outliers skew the data, focusing instead on the middle 50% of values.\n",
    "     - Variance or Standard Deviation: Good for understanding spread but unnecessary for simple threshold-based monitoring.\n",
    "\n"
   ]
  },
  {
   "cell_type": "code",
   "execution_count": 18,
   "metadata": {},
   "outputs": [
    {
     "name": "stdout",
     "output_type": "stream",
     "text": [
      "Range: 8\n"
     ]
    }
   ],
   "source": [
    "data = [4, 7, 10, 5, 12]\n",
    "range_value = max(data) - min(data)\n",
    "\n",
    "print(\"Range:\", range_value)\n"
   ]
  },
  {
   "cell_type": "markdown",
   "metadata": {},
   "source": [
    "6. Percentile\n",
    "   - Definition:\n",
    "     A percentile indicates the relative standing of a value in a dataset. The p-th percentile is the value below which p% of the data fall.\n",
    "   \n",
    "   - Formula:\n",
    "     Percentile = (p/100) * (n + 1)\n",
    "     Where:\n",
    "       - p = percentile\n",
    "       - n = number of data points\n",
    "   \n",
    "   - Example:\n",
    "     For the data set: [4, 7, 10, 5, 12] and p = 50 (50th percentile):\n",
    "     The 50th percentile (median) is 7\n",
    "   \n",
    "   - Practical Usage:\n",
    "     - Used to understand the distribution of data (e.g., income distribution, test scores).\n",
    "     - Helps in decision-making, such as salary benchmarking or grading.\n",
    "  \n",
    "   - Additional Information: \n",
    "     - Percentiles are common in standardized testing and grading. They help establish a relative standing in comparison to other values in the dataset.\n",
    "   \n",
    "   - Scenario: \n",
    "     - A hospital wants to assess patient wait times in the emergency room.\n",
    "\n",
    "   - Problem Statement: \n",
    "     - The hospital aims to understand how their wait times compare to benchmarks (e.g., 80th percentile of wait times within acceptable limits) to improve patient experience.\n",
    "\n",
    "   - Solution:\n",
    "     - Percentiles allow the hospital to assess where the bulk of patient wait times fall, focusing on specific benchmarks like the 80th or 90th percentile to identify prolonged wait times. This approach is useful because it provides actionable insights about typical versus extreme wait times, making it easy to set goals based on real performance metrics.\n",
    "\n",
    "   - Alternate Solutions:\n",
    "     - Mean and Median Wait Times: Useful for general understanding but may not highlight extreme wait times as effectively as percentiles.\n",
    "     - Range or IQR: Could help track variation but doesn’t directly offer percentile-based goals."
   ]
  },
  {
   "cell_type": "code",
   "execution_count": 19,
   "metadata": {},
   "outputs": [
    {
     "name": "stdout",
     "output_type": "stream",
     "text": [
      "50th Percentile (Median): 7.0\n"
     ]
    }
   ],
   "source": [
    "import numpy as np\n",
    "\n",
    "# Sample data\n",
    "data = [4, 7, 10, 5, 12]\n",
    "percentile_50 = np.percentile(data, 50)\n",
    "\n",
    "print(\"50th Percentile (Median):\", percentile_50)\n"
   ]
  },
  {
   "cell_type": "markdown",
   "metadata": {},
   "source": [
    "7. Interquartile Range (IQR)\n",
    "   - Definition:\n",
    "     The IQR measures the range within which the middle 50% of the data lies, defined as the difference between the 75th percentile (Q3) and 25th percentile (Q1).\n",
    "   \n",
    "   - Formula:\n",
    "     IQR = Q3 - Q1\n",
    "     Where:\n",
    "       - Q1 = 25th percentile\n",
    "       - Q3 = 75th percentile\n",
    "   \n",
    "   - Example:\n",
    "     For the data set: [4, 7, 10, 5, 12] with Q1 = 5 and Q3 = 10:\n",
    "     IQR = 10 - 5 = 5\n",
    "   \n",
    "   - Practical Usage:\n",
    "     - Used to identify outliers (values that fall outside 1.5*IQR above Q3 or below Q1).\n",
    "     - Applied in data visualization, particularly in box plots, to show data spread.\n",
    "\n",
    "   - Additional Information: \n",
    "     - IQR is used to identify outliers and understand data spread. Data points that lie beyond 1.5 times the IQR above Q3 or below Q1 are often considered outliers.\n",
    "   \n",
    "   - Scenario: \n",
    "     - An educational testing company wants to assess score distributions and detect outliers for student performance on a standardized test.\n",
    "\n",
    "   - Problem Statement: \n",
    "     - The company needs a measure that helps in identifying students with exceptionally high or low scores for specialized assistance programs or additional testing.\n",
    "\n",
    "   - Solution:\n",
    "     - Interquartile Range (IQR) focuses on the middle 50% of the scores, allowing the company to understand the spread without being skewed by  outliers. IQR is effective here as it allows them to detect extreme scores (outside the typical range), making it ideal for identifying potential outliers for further evaluation.\n",
    "\n",
    "   - Alternate Solutions:\n",
    "     - Standard Deviation: Useful to measure overall spread but might overemphasize extreme values.\n",
    "     - Range: Provides the absolute range of scores but doesn’t reflect internal distribution patterns, limiting outlier identification.\n"
   ]
  },
  {
   "cell_type": "code",
   "execution_count": 20,
   "metadata": {},
   "outputs": [
    {
     "data": {
      "image/png": "[encoded data removed]",
      "text/plain": [
       "<Figure size 640x480 with 1 Axes>"
      ]
     },
     "metadata": {},
     "output_type": "display_data"
    }
   ],
   "source": [
    "import numpy as np\n",
    "import matplotlib.pyplot as plt\n",
    "\n",
    "# Sample data\n",
    "data = [4, 7, 10, 5, 12]\n",
    "q1 = np.percentile(data, 25)\n",
    "q3 = np.percentile(data, 75)\n",
    "iqr = q3 - q1\n",
    "\n",
    "# Box plot to illustrate IQR\n",
    "plt.boxplot(data, vert=False)\n",
    "plt.xlabel(\"Value\")\n",
    "plt.title(f\"Interquartile Range (IQR) = {iqr}\")\n",
    "plt.show()\n"
   ]
  }
 ],
 "metadata": {
  "kernelspec": {
   "display_name": "Python 3",
   "language": "python",
   "name": "python3"
  },
  "language_info": {
   "codemirror_mode": {
    "name": "ipython",
    "version": 3
   },
   "file_extension": ".py",
   "mimetype": "text/x-python",
   "name": "python",
   "nbconvert_exporter": "python",
   "pygments_lexer": "ipython3",
   "version": "3.12.4"
  }
 },
 "nbformat": 4,
 "nbformat_minor": 2
}
